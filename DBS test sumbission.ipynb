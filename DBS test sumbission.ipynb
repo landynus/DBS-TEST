{
 "cells": [
  {
   "cell_type": "code",
   "execution_count": 1,
   "metadata": {},
   "outputs": [],
   "source": [
    "import numpy as np\n",
    "from itertools import combinations\n",
    "from collections import defaultdict\n",
    "from numpy.random import exponential\n",
    "from sklearn.neural_network import MLPRegressor\n",
    "import matplotlib.pyplot as plt"
   ]
  },
  {
   "cell_type": "code",
   "execution_count": 2,
   "metadata": {},
   "outputs": [],
   "source": [
    "%matplotlib inline"
   ]
  },
  {
   "cell_type": "markdown",
   "metadata": {},
   "source": [
    "# Question 1\n",
    "The random variable X and Y have the following joint probability density \n",
    "\n",
    "$f_{XY}(x, y) = $\n",
    "$\\begin{cases}\n",
    "e^{-x-y}, & 0 < x <\\infty, 0 < y < \\infty \\\\\n",
    "0, & elsewhere\n",
    "\\end{cases}\n",
    "$\n",
    "\n",
    "What is $𝑃(𝑋<𝑌)$ ?"
   ]
  },
  {
   "cell_type": "markdown",
   "metadata": {},
   "source": [
    "## Using conditional probabilty \n",
    "First compute marginal probability:\n",
    "\n",
    "$f_X(x) = \\int_0^{\\infty} e^{-x-y} dy = e^{-x}$ and $f_Y(y) = \\int_0^{\\infty} e^{-x-y} dx = e^{-y}$.\n",
    "\n",
    "Then using conditional probability:\n",
    "\n",
    "$P(X<Y)$ \n",
    "\n",
    "$=\\int_0^{\\infty} P(X<y | Y=y)f_Y(y)dy$\n",
    "\n",
    "$=\\int_0^{\\infty}(1 - e^{-y})e^{-y}dy$\n",
    "\n",
    "$=\\int_0^{\\infty} e^{-y}dy - \\int_0^{\\infty}e^{-2y}dy$\n",
    "\n",
    "$= 1 - \\frac{1}{2} = \\frac{1}{2}$\n",
    "\n"
   ]
  },
  {
   "cell_type": "markdown",
   "metadata": {},
   "source": [
    "## Using Monte Carlo algorithm rooted in LLN"
   ]
  },
  {
   "cell_type": "code",
   "execution_count": 3,
   "metadata": {},
   "outputs": [],
   "source": [
    "def monte_carlo_algo(sample_size):\n",
    "    x = exponential(scale=1, size=sample_size)\n",
    "    y = exponential(scale=1, size=sample_size)\n",
    "    return (x < y).sum()/sample_size"
   ]
  },
  {
   "cell_type": "code",
   "execution_count": 4,
   "metadata": {},
   "outputs": [
    {
     "data": {
      "image/png": "[encoded data removed]",
      "text/plain": [
       "<Figure size 432x288 with 1 Axes>"
      ]
     },
     "metadata": {
      "needs_background": "light"
     },
     "output_type": "display_data"
    }
   ],
   "source": [
    "# As the number of samples gets larger, the results converges to 1/2.\n",
    "\n",
    "probabilities = [monte_carlo_algo(i + 1) for i in range(1000)]\n",
    "plt.plot(probabilities, '.');"
   ]
  },
  {
   "cell_type": "markdown",
   "metadata": {},
   "source": [
    "# Question 2"
   ]
  },
  {
   "cell_type": "markdown",
   "metadata": {},
   "source": [
    "    Counting the pairs with k different from an integer list \n",
    "    eg: list = [1, 3,5] and k = 2 \n",
    "    expected: we will have 2 pairs: {(1,3), (3,5)} \n",
    "    Note: we also consider the negative numbers."
   ]
  },
  {
   "cell_type": "code",
   "execution_count": 5,
   "metadata": {},
   "outputs": [],
   "source": [
    "# Do not consider the order of numbers in each pair. Assume duplicated pairs are allowed.\n",
    "# First traverse the list and record the number of apperance of each element.\n",
    "# Sort the unqiue numbers, for each number, check whether number + k exist.\n",
    "# Time complexity is O(n), space complexity is O(n).\n",
    "\n",
    "def count_paris(alist, k):\n",
    "    numbers = defaultdict(int)\n",
    "    for num in alist:\n",
    "        numbers[num] += 1\n",
    "        \n",
    "    unique_num = list(numbers.keys()) \n",
    "    unique_num.sort()\n",
    "    \n",
    "    count = 0\n",
    "    pairs = []\n",
    "    \n",
    "    for num in unique_num:\n",
    "        if num + k in unique_num:\n",
    "            c = numbers[num] * numbers[num+k]\n",
    "            pairs += [(num, num+k) for i in range(c)]\n",
    "            count += c\n",
    "            \n",
    "    print(f\"we will have {count} pairs: {pairs}\")       "
   ]
  },
  {
   "cell_type": "code",
   "execution_count": 6,
   "metadata": {},
   "outputs": [
    {
     "name": "stdout",
     "output_type": "stream",
     "text": [
      "we will have 2 pairs: [(1, 3), (3, 5)]\n",
      "we will have 4 pairs: [(1, 3), (1, 3), (3, 5), (3, 5)]\n"
     ]
    }
   ],
   "source": [
    "# test the code \n",
    "\n",
    "count_paris([1, 3, 5], 2)\n",
    "count_paris([1, 3, 3, 5], 2)"
   ]
  },
  {
   "cell_type": "markdown",
   "metadata": {},
   "source": [
    "# Question 3"
   ]
  },
  {
   "cell_type": "markdown",
   "metadata": {},
   "source": [
    "    Return the list of indices. The indices is a sublist points to the same person. The same persons means they have the same name or email or phone. eg:\n",
    "    data = [\n",
    "    (\"username1\",\"phone_number1\", \"email1\"),\n",
    "    (\"usernameX\",\"phone_number1\", \"emailX\"),\n",
    "    (\"usernameZ\",\"phone_numberZ\", \"email1Z\"),\n",
    "    (\"usernameY\",\"phone_numberY\", \"emailX\"),\n",
    "    ]\n",
    "    expected: [[0,1,3][2]]"
   ]
  },
  {
   "cell_type": "code",
   "execution_count": 7,
   "metadata": {},
   "outputs": [],
   "source": [
    "# Build adjency graph with contacts as nodes and contact details as links.\n",
    "\n",
    "def build_graph(data):\n",
    "    n = len(data)\n",
    "    graph = np.zeros((n, n))\n",
    "    for i in range(n-1):\n",
    "        for j in range(i+1, n):\n",
    "            if data[i][0] == data[j][0] or data[i][1] == data[j][1] or data[i][2] == data[j][2]:\n",
    "                graph[i][j] = 1\n",
    "                graph[j][i] = 1\n",
    "    return graph        "
   ]
  },
  {
   "cell_type": "code",
   "execution_count": 8,
   "metadata": {},
   "outputs": [],
   "source": [
    "# Perform depth first search using a recuesive function.\n",
    "\n",
    "def depth_first_traverse(graph, n, i, visited, res):\n",
    "    visited[i] = True\n",
    "    res.append(i)\n",
    "    for j in range(n):\n",
    "        if graph[i][j] == 1 and not visited[j]:\n",
    "             depth_first_traverse(graph, n, j, visited, res)      "
   ]
  },
  {
   "cell_type": "code",
   "execution_count": 9,
   "metadata": {},
   "outputs": [],
   "source": [
    "# Indentify same persons.\n",
    "\n",
    "def identify_same_person(data):\n",
    "    graph =  build_graph(data)\n",
    "    n = len(data)\n",
    "    results = []\n",
    "    visited = [False for i in range(n)] \n",
    "    for i in range(n):\n",
    "        if not visited[i]:\n",
    "            res = []\n",
    "            depth_first_traverse(graph, n, i, visited, res)\n",
    "            results.append(res)\n",
    "    return results"
   ]
  },
  {
   "cell_type": "code",
   "execution_count": 10,
   "metadata": {},
   "outputs": [
    {
     "data": {
      "text/plain": [
       "[[0, 1, 3], [2]]"
      ]
     },
     "execution_count": 10,
     "metadata": {},
     "output_type": "execute_result"
    }
   ],
   "source": [
    "# test the code with example\n",
    "\n",
    "data = [\n",
    "    (\"username1\",\"phone_number1\", \"email1\"),\n",
    "    (\"usernameX\",\"phone_number1\", \"emailX\"),\n",
    "    (\"usernameZ\",\"phone_numberZ\", \"email1Z\"),\n",
    "    (\"usernameY\",\"phone_numberY\", \"emailX\"),\n",
    "    ]\n",
    "\n",
    "identify_same_person(data)"
   ]
  },
  {
   "cell_type": "markdown",
   "metadata": {},
   "source": [
    "# Question 4"
   ]
  },
  {
   "cell_type": "markdown",
   "metadata": {},
   "source": [
    "Implement the Forward propagation & Backward propagation for a three layers Neural Network. X, W and b can be random."
   ]
  },
  {
   "cell_type": "code",
   "execution_count": 11,
   "metadata": {},
   "outputs": [],
   "source": [
    "class NeuralNetwork:\n",
    "    def __init__(self, sizes):\n",
    "        \"\"\"\n",
    "        The list sizes contains the number of neurons in the respective layers of the network.\n",
    "        \"\"\"    \n",
    "        self.num_layer = len(sizes)\n",
    "        self.sizes = sizes\n",
    "        self.biases = [np.random.randn(m, 1) for m in sizes[1:]]\n",
    "        self.weights = [np.random.randn(m, n) for m, n in zip(sizes[1:], sizes[0: -1])]\n",
    "     \n",
    "    def feed_forward(self, x):\n",
    "        \"\"\"\n",
    "        The formulations in feed forward algorithm are in matrix form.\n",
    "        \"\"\"\n",
    "        n = len(x)\n",
    "        activation = x\n",
    "        activations = [x]\n",
    "        zs = []\n",
    "        for weight, bias in zip(self.weights, self.biases):\n",
    "            z = activation @ weight.T + bias.T\n",
    "            activation = self.sigmoid(z) \n",
    "            zs.append(z)\n",
    "            activations.append(activation)\n",
    "        return zs, activations\n",
    "    \n",
    "    def back_prop(self, x, y):\n",
    "        \"\"\"\n",
    "        The formulations in backward propagation algorithm are in matrix form.\n",
    "        \"\"\"\n",
    "        zs, activations = self.feed_forward(x)\n",
    "    \n",
    "        nudge_biases = [np.zeros(b.shape) for b in self.biases]\n",
    "        nudge_weights = [np.zeros(w.shape) for w in self.weights]\n",
    "        \n",
    "        n = len(x)\n",
    "        delta = self.cost_derivative(activations[-1], y) * self.sigmoid_derivative(zs[-1])\n",
    "        nudge_biases[-1] = delta.T @ np.ones((n, 1))\n",
    "        nudge_weights[-1] = delta.T @ activations[-2]\n",
    "    \n",
    "        for i in range(2, self.num_layer):\n",
    "            delta = (delta @ self.weights[-i+1]) * self.sigmoid_derivative(zs[-i])\n",
    "            nudge_biases[-i] =  delta.T @ np.ones((n, 1))\n",
    "            nudge_weights[-i] = delta.T @ (activations[-i-1])\n",
    "        return nudge_biases, nudge_weights\n",
    "      \n",
    "    def update_params(self, x, y, epochs, rate):\n",
    "        \"\"\"\n",
    "        Train data using backward propagation algorithm.\n",
    "        Here, use the whole train data set as a mini batch.\n",
    "        \"\"\"\n",
    "        for j in range(epochs):\n",
    "            nudge_biases, nudge_weights = self.back_prop(x, y)\n",
    "            self.biases = [b - rate * nb for b, nb in zip(self.biases, nudge_biases)]\n",
    "            self.weights = [w - rate * nw for w, nw in zip(self.weights, nudge_weights)] \n",
    "    \n",
    "    def predict(self, x):\n",
    "        \"\"\"\n",
    "        Return neural network output given input x.\n",
    "        \"\"\"\n",
    "        _, act = self.feed_forward(x)\n",
    "        return act[-1]\n",
    "    \n",
    "    @staticmethod\n",
    "    def sigmoid(x):\n",
    "        return 1.0 / (1.0 + np.exp(-x))\n",
    "    \n",
    "    def sigmoid_derivative(self, x):\n",
    "        f = self.sigmoid(x)\n",
    "        return f * (1 - f)\n",
    "    \n",
    "    @staticmethod\n",
    "    def cost_derivative(y_pred, y_true):\n",
    "        \"\"\"\n",
    "        Give derivative of cost function in the form of \\sum(y_pred - y_true) ** 2 / 2\n",
    "        \"\"\"\n",
    "        return y_pred - y_true"
   ]
  },
  {
   "cell_type": "code",
   "execution_count": 12,
   "metadata": {},
   "outputs": [],
   "source": [
    "# generate random variable x, y\n",
    "\n",
    "x = np.random.rand(1000, 3)\n",
    "y = x.mean(axis=1).reshape(-1, 1)"
   ]
  },
  {
   "cell_type": "code",
   "execution_count": 13,
   "metadata": {},
   "outputs": [
    {
     "name": "stdout",
     "output_type": "stream",
     "text": [
      "mean squre error is: 0.0013237859175152238\n"
     ]
    }
   ],
   "source": [
    "# use the back propagation to train data\n",
    "\n",
    "nn = NeuralNetwork((3, 2, 1))\n",
    "nn.update_params(x, y, 200, 0.01)\n",
    "y_pred = nn.predict(x)\n",
    "print(f'mean squre error is: {((y_pred - y) ** 2).mean()}')"
   ]
  },
  {
   "cell_type": "code",
   "execution_count": 14,
   "metadata": {},
   "outputs": [
    {
     "name": "stdout",
     "output_type": "stream",
     "text": [
      "mean square error is: 0.04673068547638259\n"
     ]
    }
   ],
   "source": [
    "# use the sklearn app MLPRegressor to train data\n",
    "\n",
    "regr = MLPRegressor(activation='logistic', batch_size=1000, learning_rate_init=0.01)\n",
    "regr.fit(x, y.flatten())\n",
    "print(f'mean square error is: {((regr.predict(x) - y) ** 2).mean()}')"
   ]
  }
 ],
 "metadata": {
  "kernelspec": {
   "display_name": "Python 3",
   "language": "python",
   "name": "python3"
  },
  "language_info": {
   "codemirror_mode": {
    "name": "ipython",
    "version": 3
   },
   "file_extension": ".py",
   "mimetype": "text/x-python",
   "name": "python",
   "nbconvert_exporter": "python",
   "pygments_lexer": "ipython3",
   "version": "3.7.4"
  },
  "toc": {
   "base_numbering": 1,
   "nav_menu": {},
   "number_sections": true,
   "sideBar": true,
   "skip_h1_title": false,
   "title_cell": "Table of Contents",
   "title_sidebar": "Contents",
   "toc_cell": false,
   "toc_position": {
    "height": "calc(100% - 180px)",
    "left": "10px",
    "top": "150px",
    "width": "165px"
   },
   "toc_section_display": true,
   "toc_window_display": true
  }
 },
 "nbformat": 4,
 "nbformat_minor": 2
}
